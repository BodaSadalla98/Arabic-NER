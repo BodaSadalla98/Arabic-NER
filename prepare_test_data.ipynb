{
 "cells": [
  {
   "attachments": {},
   "cell_type": "markdown",
   "metadata": {},
   "source": [
    "## Download data\n",
    "\n",
    "## Aner data\n",
    "\n",
    "## Camel data\n",
    "\n",
    "## two labels files "
   ]
  },
  {
   "cell_type": "code",
   "execution_count": 1,
   "metadata": {},
   "outputs": [],
   "source": [
    "import gdown\n",
    "\n",
    "## ANER data\n",
    "aner_50_id = \"1w_AwpWAdi_IPWYlV0VzFE6WL7doWopiL\"\n",
    "aner_50_output = \"data/aner_50/aner_50.txt\"\n",
    "\n",
    "\n",
    "\n",
    "## Camel Data\n",
    "camel_50_id = \"14E2KGO5qNWDPlWtwRJR0gqhhzlUhB9z6\"\n",
    "camel_50_output = \"data/camel_50/camel_50.txt\"\n",
    "\n",
    "camel_4_id = \"1-jFaBXaKe3t0clU0j0PYKHBYjmvpfXSr\"\n",
    "camel_4_output = \"data/camel_4/camel_4.txt\"\n",
    "\n",
    "# gdown.download(id = aner_50_id, output=aner_50_output, quiet=False)\n",
    "# gdown.download(id = camel_50_id, output=camel_50_output, quiet=False)\n",
    "# gdown.download(id = camel_4_id, output=camel_4_output, quiet=False)\n",
    "\n"
   ]
  },
  {
   "attachments": {},
   "cell_type": "markdown",
   "metadata": {},
   "source": [
    "# Convert camel_4 tp text"
   ]
  },
  {
   "cell_type": "code",
   "execution_count": 2,
   "metadata": {},
   "outputs": [],
   "source": [
    "# import pandas as pd\n",
    "\n",
    "# excel = pd.read_excel('/data/boda/Arabic-NER/data/camel_4/ANERCorp.xlsx',header=None)\n",
    "\n",
    "# excel = excel.iloc[: , :-1]\n",
    "# excel.to_csv('data/camel_4/camel_4.txt',index = None, sep='\\t', header=False)\n"
   ]
  },
  {
   "attachments": {},
   "cell_type": "markdown",
   "metadata": {},
   "source": [
    "# compare camel_40 and camel_50"
   ]
  },
  {
   "cell_type": "code",
   "execution_count": 3,
   "metadata": {},
   "outputs": [],
   "source": [
    "import pandas as pd\n",
    "\n",
    "camel_50_data = pd.read_csv(camel_50_output,delimiter='\\t', header=None)\n",
    "camel_4_data = pd.read_csv(camel_4_output, delimiter='\\t', header=None)\n",
    "aner_50_data = pd.read_csv(aner_50_output, delimiter='\\t', header=None)\n",
    "\n"
   ]
  },
  {
   "cell_type": "code",
   "execution_count": 4,
   "metadata": {},
   "outputs": [
    {
     "data": {
      "text/html": [
       "<div>\n",
       "<style scoped>\n",
       "    .dataframe tbody tr th:only-of-type {\n",
       "        vertical-align: middle;\n",
       "    }\n",
       "\n",
       "    .dataframe tbody tr th {\n",
       "        vertical-align: top;\n",
       "    }\n",
       "\n",
       "    .dataframe thead th {\n",
       "        text-align: right;\n",
       "    }\n",
       "</style>\n",
       "<table border=\"1\" class=\"dataframe\">\n",
       "  <thead>\n",
       "    <tr style=\"text-align: right;\">\n",
       "      <th></th>\n",
       "      <th>0</th>\n",
       "      <th>1</th>\n",
       "    </tr>\n",
       "  </thead>\n",
       "  <tbody>\n",
       "    <tr>\n",
       "      <th>0</th>\n",
       "      <td>‎جمهورية</td>\n",
       "      <td>B-Nation</td>\n",
       "    </tr>\n",
       "    <tr>\n",
       "      <th>1</th>\n",
       "      <td>‎جنوب</td>\n",
       "      <td>I-Nation</td>\n",
       "    </tr>\n",
       "    <tr>\n",
       "      <th>2</th>\n",
       "      <td>‎السودان</td>\n",
       "      <td>I-Nation</td>\n",
       "    </tr>\n",
       "    <tr>\n",
       "      <th>3</th>\n",
       "      <td>،</td>\n",
       "      <td>O</td>\n",
       "    </tr>\n",
       "    <tr>\n",
       "      <th>4</th>\n",
       "      <td>‎هي</td>\n",
       "      <td>O</td>\n",
       "    </tr>\n",
       "    <tr>\n",
       "      <th>...</th>\n",
       "      <td>...</td>\n",
       "      <td>...</td>\n",
       "    </tr>\n",
       "    <tr>\n",
       "      <th>245460</th>\n",
       "      <td>‎في</td>\n",
       "      <td>O</td>\n",
       "    </tr>\n",
       "    <tr>\n",
       "      <th>245461</th>\n",
       "      <td>‎القرن</td>\n",
       "      <td>O</td>\n",
       "    </tr>\n",
       "    <tr>\n",
       "      <th>245462</th>\n",
       "      <td>‎التاسع</td>\n",
       "      <td>O</td>\n",
       "    </tr>\n",
       "    <tr>\n",
       "      <th>245463</th>\n",
       "      <td>‎م</td>\n",
       "      <td>O</td>\n",
       "    </tr>\n",
       "    <tr>\n",
       "      <th>245464</th>\n",
       "      <td>.</td>\n",
       "      <td>O</td>\n",
       "    </tr>\n",
       "  </tbody>\n",
       "</table>\n",
       "<p>245465 rows × 2 columns</p>\n",
       "</div>"
      ],
      "text/plain": [
       "               0         1\n",
       "0       ‎جمهورية  B-Nation\n",
       "1          ‎جنوب  I-Nation\n",
       "2       ‎السودان  I-Nation\n",
       "3              ،         O\n",
       "4            ‎هي         O\n",
       "...          ...       ...\n",
       "245460       ‎في         O\n",
       "245461    ‎القرن         O\n",
       "245462   ‎التاسع         O\n",
       "245463        ‎م         O\n",
       "245464         .         O\n",
       "\n",
       "[245465 rows x 2 columns]"
      ]
     },
     "execution_count": 4,
     "metadata": {},
     "output_type": "execute_result"
    }
   ],
   "source": [
    "aner_50_data"
   ]
  },
  {
   "cell_type": "code",
   "execution_count": 5,
   "metadata": {},
   "outputs": [
    {
     "data": {
      "text/html": [
       "<div>\n",
       "<style scoped>\n",
       "    .dataframe tbody tr th:only-of-type {\n",
       "        vertical-align: middle;\n",
       "    }\n",
       "\n",
       "    .dataframe tbody tr th {\n",
       "        vertical-align: top;\n",
       "    }\n",
       "\n",
       "    .dataframe thead th {\n",
       "        text-align: right;\n",
       "    }\n",
       "</style>\n",
       "<table border=\"1\" class=\"dataframe\">\n",
       "  <thead>\n",
       "    <tr style=\"text-align: right;\">\n",
       "      <th></th>\n",
       "      <th>0</th>\n",
       "      <th>1</th>\n",
       "    </tr>\n",
       "  </thead>\n",
       "  <tbody>\n",
       "    <tr>\n",
       "      <th>0</th>\n",
       "      <td>‎فرانكفورت</td>\n",
       "      <td>B-Population-Center</td>\n",
       "    </tr>\n",
       "    <tr>\n",
       "      <th>1</th>\n",
       "      <td>(</td>\n",
       "      <td>O</td>\n",
       "    </tr>\n",
       "    <tr>\n",
       "      <th>2</th>\n",
       "      <td>‎د</td>\n",
       "      <td>B-Media</td>\n",
       "    </tr>\n",
       "    <tr>\n",
       "      <th>3</th>\n",
       "      <td>‎ب</td>\n",
       "      <td>I-Media</td>\n",
       "    </tr>\n",
       "    <tr>\n",
       "      <th>4</th>\n",
       "      <td>‎ا</td>\n",
       "      <td>I-Media</td>\n",
       "    </tr>\n",
       "  </tbody>\n",
       "</table>\n",
       "</div>"
      ],
      "text/plain": [
       "            0                    1\n",
       "0  ‎فرانكفورت  B-Population-Center\n",
       "1           (                    O\n",
       "2          ‎د              B-Media\n",
       "3          ‎ب              I-Media\n",
       "4          ‎ا              I-Media"
      ]
     },
     "execution_count": 5,
     "metadata": {},
     "output_type": "execute_result"
    }
   ],
   "source": [
    "camel_50_data.head()"
   ]
  },
  {
   "cell_type": "code",
   "execution_count": 6,
   "metadata": {},
   "outputs": [
    {
     "data": {
      "text/html": [
       "<div>\n",
       "<style scoped>\n",
       "    .dataframe tbody tr th:only-of-type {\n",
       "        vertical-align: middle;\n",
       "    }\n",
       "\n",
       "    .dataframe tbody tr th {\n",
       "        vertical-align: top;\n",
       "    }\n",
       "\n",
       "    .dataframe thead th {\n",
       "        text-align: right;\n",
       "    }\n",
       "</style>\n",
       "<table border=\"1\" class=\"dataframe\">\n",
       "  <thead>\n",
       "    <tr style=\"text-align: right;\">\n",
       "      <th></th>\n",
       "      <th>0</th>\n",
       "      <th>1</th>\n",
       "    </tr>\n",
       "  </thead>\n",
       "  <tbody>\n",
       "    <tr>\n",
       "      <th>0</th>\n",
       "      <td>فرانكفورت</td>\n",
       "      <td>B-LOC</td>\n",
       "    </tr>\n",
       "    <tr>\n",
       "      <th>1</th>\n",
       "      <td>(د</td>\n",
       "      <td>O</td>\n",
       "    </tr>\n",
       "    <tr>\n",
       "      <th>2</th>\n",
       "      <td>ب</td>\n",
       "      <td>O</td>\n",
       "    </tr>\n",
       "    <tr>\n",
       "      <th>3</th>\n",
       "      <td>أ)</td>\n",
       "      <td>O</td>\n",
       "    </tr>\n",
       "    <tr>\n",
       "      <th>4</th>\n",
       "      <td>أعلن</td>\n",
       "      <td>O</td>\n",
       "    </tr>\n",
       "  </tbody>\n",
       "</table>\n",
       "</div>"
      ],
      "text/plain": [
       "           0      1\n",
       "0  فرانكفورت  B-LOC\n",
       "1         (د      O\n",
       "2          ب      O\n",
       "3         أ)      O\n",
       "4       أعلن      O"
      ]
     },
     "execution_count": 6,
     "metadata": {},
     "output_type": "execute_result"
    }
   ],
   "source": [
    "camel_4_data.head()"
   ]
  },
  {
   "cell_type": "code",
   "execution_count": 7,
   "metadata": {},
   "outputs": [],
   "source": [
    "camel_4_data.columns = ['word','label']\n",
    "camel_50_data.columns = ['word','label']\n",
    "aner_50_data.columns = ['word','label']\n",
    "\n"
   ]
  },
  {
   "cell_type": "code",
   "execution_count": 8,
   "metadata": {},
   "outputs": [
    {
     "data": {
      "text/html": [
       "<div>\n",
       "<style scoped>\n",
       "    .dataframe tbody tr th:only-of-type {\n",
       "        vertical-align: middle;\n",
       "    }\n",
       "\n",
       "    .dataframe tbody tr th {\n",
       "        vertical-align: top;\n",
       "    }\n",
       "\n",
       "    .dataframe thead th {\n",
       "        text-align: right;\n",
       "    }\n",
       "</style>\n",
       "<table border=\"1\" class=\"dataframe\">\n",
       "  <thead>\n",
       "    <tr style=\"text-align: right;\">\n",
       "      <th></th>\n",
       "      <th>word</th>\n",
       "      <th>label</th>\n",
       "    </tr>\n",
       "  </thead>\n",
       "  <tbody>\n",
       "    <tr>\n",
       "      <th>0</th>\n",
       "      <td>‎جمهورية</td>\n",
       "      <td>B-Nation</td>\n",
       "    </tr>\n",
       "    <tr>\n",
       "      <th>1</th>\n",
       "      <td>‎جنوب</td>\n",
       "      <td>I-Nation</td>\n",
       "    </tr>\n",
       "    <tr>\n",
       "      <th>2</th>\n",
       "      <td>‎السودان</td>\n",
       "      <td>I-Nation</td>\n",
       "    </tr>\n",
       "    <tr>\n",
       "      <th>3</th>\n",
       "      <td>،</td>\n",
       "      <td>O</td>\n",
       "    </tr>\n",
       "    <tr>\n",
       "      <th>4</th>\n",
       "      <td>‎هي</td>\n",
       "      <td>O</td>\n",
       "    </tr>\n",
       "  </tbody>\n",
       "</table>\n",
       "</div>"
      ],
      "text/plain": [
       "       word     label\n",
       "0  ‎جمهورية  B-Nation\n",
       "1     ‎جنوب  I-Nation\n",
       "2  ‎السودان  I-Nation\n",
       "3         ،         O\n",
       "4       ‎هي         O"
      ]
     },
     "execution_count": 8,
     "metadata": {},
     "output_type": "execute_result"
    }
   ],
   "source": [
    "aner_50_data.head()"
   ]
  },
  {
   "cell_type": "code",
   "execution_count": 9,
   "metadata": {},
   "outputs": [],
   "source": [
    "camel_4_classes = camel_4_data['label'].unique()\n",
    "camel_50_classes = camel_50_data['label'].unique()\n"
   ]
  },
  {
   "cell_type": "code",
   "execution_count": 10,
   "metadata": {},
   "outputs": [
    {
     "data": {
      "text/plain": [
       "26"
      ]
     },
     "execution_count": 10,
     "metadata": {},
     "output_type": "execute_result"
    }
   ],
   "source": [
    "len(camel_4_classes)"
   ]
  },
  {
   "cell_type": "code",
   "execution_count": 11,
   "metadata": {},
   "outputs": [
    {
     "data": {
      "text/plain": [
       "86"
      ]
     },
     "execution_count": 11,
     "metadata": {},
     "output_type": "execute_result"
    }
   ],
   "source": [
    "len(camel_50_classes)"
   ]
  },
  {
   "cell_type": "code",
   "execution_count": 12,
   "metadata": {},
   "outputs": [
    {
     "data": {
      "text/plain": [
       "O                 132029\n",
       "B-LOC               4429\n",
       "B-PERS              3598\n",
       "I-PERS              2831\n",
       "B-ORG               2023\n",
       "I-ORG               1379\n",
       "B-MISC              1115\n",
       "I-LOC                604\n",
       "I-MISC               539\n",
       "o                      4\n",
       "I-PRG                  2\n",
       "B-ERS                  2\n",
       "B-ORF                  1\n",
       "فيرسلاين               1\n",
       "IPERS                  1\n",
       "b-misc                 1\n",
       "‏                      1\n",
       "B-LOCI-PERS            1\n",
       "B-OEG                  1\n",
       "i-misc                 1\n",
       "Oالإصابة               1\n",
       "ونايفة</title>         1\n",
       "B-PERs                 1\n",
       "B-PRG                  1\n",
       "B-MSIC                 1\n",
       "Name: label, dtype: int64"
      ]
     },
     "execution_count": 12,
     "metadata": {},
     "output_type": "execute_result"
    }
   ],
   "source": [
    "camel_4_data['label'].value_counts(sort=True)"
   ]
  },
  {
   "cell_type": "code",
   "execution_count": 13,
   "metadata": {},
   "outputs": [
    {
     "data": {
      "text/plain": [
       "O                      89454\n",
       "B-Nation                1422\n",
       "I-Politician             853\n",
       "B-Population-Center      837\n",
       "B-Politician             830\n",
       "                       ...  \n",
       "B-Projectile               1\n",
       "B-Plant                    1\n",
       "B-Water                    1\n",
       "B-Engineer                 1\n",
       "B-Food                     1\n",
       "Name: label, Length: 85, dtype: int64"
      ]
     },
     "execution_count": 13,
     "metadata": {},
     "output_type": "execute_result"
    }
   ],
   "source": [
    "camel_50_data['label'].value_counts(sort=True)\n"
   ]
  },
  {
   "cell_type": "code",
   "execution_count": 14,
   "metadata": {},
   "outputs": [],
   "source": [
    "mapper = {\n",
    "    'LOC':{},\n",
    "    'PERS':{},\n",
    "    'ORG':{},\n",
    "    'MISC':{},\n",
    "}"
   ]
  },
  {
   "cell_type": "code",
   "execution_count": 15,
   "metadata": {},
   "outputs": [
    {
     "data": {
      "text/plain": [
       "('فرانكفورت', 'B-LOC')"
      ]
     },
     "execution_count": 15,
     "metadata": {},
     "output_type": "execute_result"
    }
   ],
   "source": [
    "a = list(zip(camel_4_data['word'],camel_4_data['label']))\n",
    "b = list(zip(camel_50_data['word'],camel_50_data['label']))\n",
    "c = list(zip(aner_50_data['word'],aner_50_data['label']))\n",
    "\n",
    "a[0]"
   ]
  },
  {
   "cell_type": "code",
   "execution_count": 16,
   "metadata": {},
   "outputs": [
    {
     "data": {
      "text/plain": [
       "'فرانكفورت'"
      ]
     },
     "execution_count": 16,
     "metadata": {},
     "output_type": "execute_result"
    }
   ],
   "source": [
    "a[0][0]"
   ]
  },
  {
   "cell_type": "code",
   "execution_count": 17,
   "metadata": {},
   "outputs": [],
   "source": [
    "# from tqdm import tqdm\n",
    "\n",
    "# for r in tqdm(a):\n",
    "#     if r[1] == 'O':\n",
    "#         continue\n",
    "#     w1 ,l1 = r[0] , str(r[1])[2:]\n",
    "\n",
    "#     for c in b:\n",
    "#         w2 ,l2 = c[0] , str(c[1])[2:]\n",
    "\n",
    "#         if w1 == w2  and l1 != 'O' and l2 != 'O':\n",
    "#             try:\n",
    "#                 mapper[l1][l2] = mapper[l1].get(l2,0) +1 \n",
    "#             except:\n",
    "#                 print(w1,l1,w2,l2)\n",
    "#                 break"
   ]
  },
  {
   "cell_type": "code",
   "execution_count": 18,
   "metadata": {},
   "outputs": [
    {
     "data": {
      "text/plain": [
       "{'LOC': {}, 'PERS': {}, 'ORG': {}, 'MISC': {}}"
      ]
     },
     "execution_count": 18,
     "metadata": {},
     "output_type": "execute_result"
    }
   ],
   "source": [
    "mapper\n",
    "\n",
    "# import json"
   ]
  },
  {
   "cell_type": "code",
   "execution_count": 19,
   "metadata": {},
   "outputs": [],
   "source": [
    "# from tqdm import tqdm\n",
    "\n",
    "\n",
    "# # camel_4_data = camel_4_data.reset_index()\n",
    "# # camel_50_data = camel_50_data.reset_index()\n",
    "# for i,r in tqdm(camel_4_data.iterrows()):\n",
    "#     if r['label'] == 'O':\n",
    "#         continue\n",
    "#     w1 ,l1 = r['word'] , r['label'][2:]\n",
    "\n",
    "#     for j,c in camel_50_data.iterrows():\n",
    "#         w2 ,l2 = c['word'] ,str(c['label'])[2:]\n",
    "\n",
    "#         if w1 == w2  and l1 != 'O' and l2 != 'O':\n",
    "#             mapper[l1][l2] = mapper[l1].get(l2,0) +1 \n"
   ]
  },
  {
   "cell_type": "code",
   "execution_count": 20,
   "metadata": {},
   "outputs": [
    {
     "name": "stdout",
     "output_type": "stream",
     "text": [
      "245465\n"
     ]
    }
   ],
   "source": [
    "print(len(c))"
   ]
  },
  {
   "cell_type": "code",
   "execution_count": 21,
   "metadata": {},
   "outputs": [],
   "source": [
    "# s = set()\n",
    "\n",
    "# for l in c:\n",
    "#     l = str(l[1])\n",
    "#     if l !='O':\n",
    "#         s.add(l[2:])\n",
    "\n",
    "# with open('labels.txt','w')as f:\n",
    "#     for i in s:\n",
    "#         f.write(f'\"{i}\",\\n')\n"
   ]
  },
  {
   "attachments": {},
   "cell_type": "markdown",
   "metadata": {},
   "source": [
    "# Data Mapping"
   ]
  },
  {
   "cell_type": "code",
   "execution_count": null,
   "metadata": {},
   "outputs": [],
   "source": []
  }
 ],
 "metadata": {
  "kernelspec": {
   "display_name": "dl",
   "language": "python",
   "name": "python3"
  },
  "language_info": {
   "codemirror_mode": {
    "name": "ipython",
    "version": 3
   },
   "file_extension": ".py",
   "mimetype": "text/x-python",
   "name": "python",
   "nbconvert_exporter": "python",
   "pygments_lexer": "ipython3",
   "version": "3.10.6"
  },
  "orig_nbformat": 4
 },
 "nbformat": 4,
 "nbformat_minor": 2
}
